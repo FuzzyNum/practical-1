{
 "cells": [
  {
   "cell_type": "markdown",
   "metadata": {},
   "source": [
    "## Practical 1: word2vec\n",
    "<p>Oxford CS - Deep NLP 2017<br>\n",
    "https://www.cs.ox.ac.uk/teaching/courses/2016-2017/dl/</p>\n",
    "<p>[Yannis Assael, Brendan Shillingford, Chris Dyer]</p>"
   ]
  },
  {
   "cell_type": "markdown",
   "metadata": {},
   "source": [
    "This practical is presented as an IPython Notebook, with the code written for recent versions of **Python 3**. The code in this practical will not work with Python 2 unless you modify it. If you are using your own Python installation, ensure you have a setup identical to that described in the installation shell script (which is intended for use with the department lab machines). We will be unable to support installation on personal machines due to time constraints, so please use the lab machines and the setup script if you are unfamiliar with how to install Anaconda.\n",
    "\n",
    "To execute a notebook cell, press `shift-enter`. The return value of the last command will be displayed, if it is not `None`.\n",
    "\n",
    "Potentially useful library documentation, references, and resources:\n",
    "\n",
    "* IPython notebooks: <https://ipython.org/ipython-doc/3/notebook/notebook.html#introduction>\n",
    "* Numpy numerical array library: <https://docs.scipy.org/doc/>\n",
    "* Gensim's word2vec: <https://radimrehurek.com/gensim/models/word2vec.html>\n",
    "* Bokeh interactive plots: <http://bokeh.pydata.org/en/latest/> (we provide plotting code here, but click the thumbnails for more examples to copy-paste)\n",
    "* scikit-learn ML library (aka `sklearn`): <http://scikit-learn.org/stable/documentation.html>\n",
    "* nltk NLP toolkit: <http://www.nltk.org/>\n",
    "* tutorial for processing xml in python using `lxml`: <http://lxml.de/tutorial.html> (we did this for you below, but in case you need it in the future)"
   ]
  },
  {
   "cell_type": "code",
   "execution_count": 1,
   "metadata": {},
   "outputs": [],
   "source": [
    "import sys\n",
    "sys.path.append(\"../../../Library/Frameworks/Python.framework/Versions/3.11/lib/python3.11/site-packages\")"
   ]
  },
  {
   "cell_type": "code",
   "execution_count": 2,
   "metadata": {},
   "outputs": [],
   "source": [
    "import numpy as np\n",
    "import os\n",
    "from random import shuffle\n",
    "import re\n",
    "import collections"
   ]
  },
  {
   "cell_type": "code",
   "execution_count": 3,
   "metadata": {},
   "outputs": [
    {
     "data": {
      "text/html": [
       "    <style>\n",
       "        .bk-notebook-logo {\n",
       "            display: block;\n",
       "            width: 20px;\n",
       "            height: 20px;\n",
       "            background-image: url(data:image/png;base64,iVBORw0KGgoAAAANSUhEUgAAABQAAAAUCAYAAACNiR0NAAAABHNCSVQICAgIfAhkiAAAAAlwSFlzAAALEgAACxIB0t1+/AAAABx0RVh0U29mdHdhcmUAQWRvYmUgRmlyZXdvcmtzIENTNui8sowAAAOkSURBVDiNjZRtaJVlGMd/1/08zzln5zjP1LWcU9N0NkN8m2CYjpgQYQXqSs0I84OLIC0hkEKoPtiH3gmKoiJDU7QpLgoLjLIQCpEsNJ1vqUOdO7ppbuec5+V+rj4ctwzd8IIbbi6u+8f1539dt3A78eXC7QizUF7gyV1fD1Yqg4JWz84yffhm0qkFqBogB9rM8tZdtwVsPUhWhGcFJngGeWrPzHm5oaMmkfEg1usvLFyc8jLRqDOMru7AyC8saQr7GG7f5fvDeH7Ej8CM66nIF+8yngt6HWaKh7k49Soy9nXurCi1o3qUbS3zWfrYeQDTB/Qj6kX6Ybhw4B+bOYoLKCC9H3Nu/leUTZ1JdRWkkn2ldcCamzrcf47KKXdAJllSlxAOkRgyHsGC/zRday5Qld9DyoM4/q/rUoy/CXh3jzOu3bHUVZeU+DEn8FInkPBFlu3+nW3Nw0mk6vCDiWg8CeJaxEwuHS3+z5RgY+YBR6V1Z1nxSOfoaPa4LASWxxdNp+VWTk7+4vzaou8v8PN+xo+KY2xsw6une2frhw05CTYOmQvsEhjhWjn0bmXPjpE1+kplmmkP3suftwTubK9Vq22qKmrBhpY4jvd5afdRA3wGjFAgcnTK2s4hY0/GPNIb0nErGMCRxWOOX64Z8RAC4oCXdklmEvcL8o0BfkNK4lUg9HTl+oPlQxdNo3Mg4Nv175e/1LDGzZen30MEjRUtmXSfiTVu1kK8W4txyV6BMKlbgk3lMwYCiusNy9fVfvvwMxv8Ynl6vxoByANLTWplvuj/nF9m2+PDtt1eiHPBr1oIfhCChQMBw6Aw0UulqTKZdfVvfG7VcfIqLG9bcldL/+pdWTLxLUy8Qq38heUIjh4XlzZxzQm19lLFlr8vdQ97rjZVOLf8nclzckbcD4wxXMidpX30sFd37Fv/GtwwhzhxGVAprjbg0gCAEeIgwCZyTV2Z1REEW8O4py0wsjeloKoMr6iCY6dP92H6Vw/oTyICIthibxjm/DfN9lVz8IqtqKYLUXfoKVMVQVVJOElGjrnnUt9T9wbgp8AyYKaGlqingHZU/uG2NTZSVqwHQTWkx9hxjkpWDaCg6Ckj5qebgBVbT3V3NNXMSiWSDdGV3hrtzla7J+duwPOToIg42ChPQOQjspnSlp1V+Gjdged7+8UN5CRAV7a5EdFNwCjEaBR27b3W890TE7g24NAP/mMDXRWrGoFPQI9ls/MWO2dWFAar/xcOIImbbpA3zgAAAABJRU5ErkJggg==);\n",
       "        }\n",
       "    </style>\n",
       "    <div>\n",
       "        <a href=\"https://bokeh.org\" target=\"_blank\" class=\"bk-notebook-logo\"></a>\n",
       "        <span id=\"c39cb5e1-c3ac-4324-9c91-216a76421937\">Loading BokehJS ...</span>\n",
       "    </div>\n"
      ]
     },
     "metadata": {},
     "output_type": "display_data"
    },
    {
     "data": {
      "application/javascript": "'use strict';\n(function(root) {\n  function now() {\n    return new Date();\n  }\n\n  const force = true;\n\n  if (typeof root._bokeh_onload_callbacks === \"undefined\" || force === true) {\n    root._bokeh_onload_callbacks = [];\n    root._bokeh_is_loading = undefined;\n  }\n\nconst JS_MIME_TYPE = 'application/javascript';\n  const HTML_MIME_TYPE = 'text/html';\n  const EXEC_MIME_TYPE = 'application/vnd.bokehjs_exec.v0+json';\n  const CLASS_NAME = 'output_bokeh rendered_html';\n\n  /**\n   * Render data to the DOM node\n   */\n  function render(props, node) {\n    const script = document.createElement(\"script\");\n    node.appendChild(script);\n  }\n\n  /**\n   * Handle when an output is cleared or removed\n   */\n  function handleClearOutput(event, handle) {\n    function drop(id) {\n      const view = Bokeh.index.get_by_id(id)\n      if (view != null) {\n        view.model.document.clear()\n        Bokeh.index.delete(view)\n      }\n    }\n\n    const cell = handle.cell;\n\n    const id = cell.output_area._bokeh_element_id;\n    const server_id = cell.output_area._bokeh_server_id;\n\n    // Clean up Bokeh references\n    if (id != null) {\n      drop(id)\n    }\n\n    if (server_id !== undefined) {\n      // Clean up Bokeh references\n      const cmd_clean = \"from bokeh.io.state import curstate; print(curstate().uuid_to_server['\" + server_id + \"'].get_sessions()[0].document.roots[0]._id)\";\n      cell.notebook.kernel.execute(cmd_clean, {\n        iopub: {\n          output: function(msg) {\n            const id = msg.content.text.trim()\n            drop(id)\n          }\n        }\n      });\n      // Destroy server and session\n      const cmd_destroy = \"import bokeh.io.notebook as ion; ion.destroy_server('\" + server_id + \"')\";\n      cell.notebook.kernel.execute(cmd_destroy);\n    }\n  }\n\n  /**\n   * Handle when a new output is added\n   */\n  function handleAddOutput(event, handle) {\n    const output_area = handle.output_area;\n    const output = handle.output;\n\n    // limit handleAddOutput to display_data with EXEC_MIME_TYPE content only\n    if ((output.output_type != \"display_data\") || (!Object.prototype.hasOwnProperty.call(output.data, EXEC_MIME_TYPE))) {\n      return\n    }\n\n    const toinsert = output_area.element.find(\".\" + CLASS_NAME.split(' ')[0]);\n\n    if (output.metadata[EXEC_MIME_TYPE][\"id\"] !== undefined) {\n      toinsert[toinsert.length - 1].firstChild.textContent = output.data[JS_MIME_TYPE];\n      // store reference to embed id on output_area\n      output_area._bokeh_element_id = output.metadata[EXEC_MIME_TYPE][\"id\"];\n    }\n    if (output.metadata[EXEC_MIME_TYPE][\"server_id\"] !== undefined) {\n      const bk_div = document.createElement(\"div\");\n      bk_div.innerHTML = output.data[HTML_MIME_TYPE];\n      const script_attrs = bk_div.children[0].attributes;\n      for (let i = 0; i < script_attrs.length; i++) {\n        toinsert[toinsert.length - 1].firstChild.setAttribute(script_attrs[i].name, script_attrs[i].value);\n        toinsert[toinsert.length - 1].firstChild.textContent = bk_div.children[0].textContent\n      }\n      // store reference to server id on output_area\n      output_area._bokeh_server_id = output.metadata[EXEC_MIME_TYPE][\"server_id\"];\n    }\n  }\n\n  function register_renderer(events, OutputArea) {\n\n    function append_mime(data, metadata, element) {\n      // create a DOM node to render to\n      const toinsert = this.create_output_subarea(\n        metadata,\n        CLASS_NAME,\n        EXEC_MIME_TYPE\n      );\n      this.keyboard_manager.register_events(toinsert);\n      // Render to node\n      const props = {data: data, metadata: metadata[EXEC_MIME_TYPE]};\n      render(props, toinsert[toinsert.length - 1]);\n      element.append(toinsert);\n      return toinsert\n    }\n\n    /* Handle when an output is cleared or removed */\n    events.on('clear_output.CodeCell', handleClearOutput);\n    events.on('delete.Cell', handleClearOutput);\n\n    /* Handle when a new output is added */\n    events.on('output_added.OutputArea', handleAddOutput);\n\n    /**\n     * Register the mime type and append_mime function with output_area\n     */\n    OutputArea.prototype.register_mime_type(EXEC_MIME_TYPE, append_mime, {\n      /* Is output safe? */\n      safe: true,\n      /* Index of renderer in `output_area.display_order` */\n      index: 0\n    });\n  }\n\n  // register the mime type if in Jupyter Notebook environment and previously unregistered\n  if (root.Jupyter !== undefined) {\n    const events = require('base/js/events');\n    const OutputArea = require('notebook/js/outputarea').OutputArea;\n\n    if (OutputArea.prototype.mime_types().indexOf(EXEC_MIME_TYPE) == -1) {\n      register_renderer(events, OutputArea);\n    }\n  }\n  if (typeof (root._bokeh_timeout) === \"undefined\" || force === true) {\n    root._bokeh_timeout = Date.now() + 5000;\n    root._bokeh_failed_load = false;\n  }\n\n  const NB_LOAD_WARNING = {'data': {'text/html':\n     \"<div style='background-color: #fdd'>\\n\"+\n     \"<p>\\n\"+\n     \"BokehJS does not appear to have successfully loaded. If loading BokehJS from CDN, this \\n\"+\n     \"may be due to a slow or bad network connection. Possible fixes:\\n\"+\n     \"</p>\\n\"+\n     \"<ul>\\n\"+\n     \"<li>re-rerun `output_notebook()` to attempt to load from CDN again, or</li>\\n\"+\n     \"<li>use INLINE resources instead, as so:</li>\\n\"+\n     \"</ul>\\n\"+\n     \"<code>\\n\"+\n     \"from bokeh.resources import INLINE\\n\"+\n     \"output_notebook(resources=INLINE)\\n\"+\n     \"</code>\\n\"+\n     \"</div>\"}};\n\n  function display_loaded(error = null) {\n    const el = document.getElementById(\"c39cb5e1-c3ac-4324-9c91-216a76421937\");\n    if (el != null) {\n      const html = (() => {\n        if (typeof root.Bokeh === \"undefined\") {\n          if (error == null) {\n            return \"BokehJS is loading ...\";\n          } else {\n            return \"BokehJS failed to load.\";\n          }\n        } else {\n          const prefix = `BokehJS ${root.Bokeh.version}`;\n          if (error == null) {\n            return `${prefix} successfully loaded.`;\n          } else {\n            return `${prefix} <b>encountered errors</b> while loading and may not function as expected.`;\n          }\n        }\n      })();\n      el.innerHTML = html;\n\n      if (error != null) {\n        const wrapper = document.createElement(\"div\");\n        wrapper.style.overflow = \"auto\";\n        wrapper.style.height = \"5em\";\n        wrapper.style.resize = \"vertical\";\n        const content = document.createElement(\"div\");\n        content.style.fontFamily = \"monospace\";\n        content.style.whiteSpace = \"pre-wrap\";\n        content.style.backgroundColor = \"rgb(255, 221, 221)\";\n        content.textContent = error.stack ?? error.toString();\n        wrapper.append(content);\n        el.append(wrapper);\n      }\n    } else if (Date.now() < root._bokeh_timeout) {\n      setTimeout(() => display_loaded(error), 100);\n    }\n  }\n\n  function run_callbacks() {\n    try {\n      root._bokeh_onload_callbacks.forEach(function(callback) {\n        if (callback != null)\n          callback();\n      });\n    } finally {\n      delete root._bokeh_onload_callbacks\n    }\n    console.debug(\"Bokeh: all callbacks have finished\");\n  }\n\n  function load_libs(css_urls, js_urls, callback) {\n    if (css_urls == null) css_urls = [];\n    if (js_urls == null) js_urls = [];\n\n    root._bokeh_onload_callbacks.push(callback);\n    if (root._bokeh_is_loading > 0) {\n      console.debug(\"Bokeh: BokehJS is being loaded, scheduling callback at\", now());\n      return null;\n    }\n    if (js_urls == null || js_urls.length === 0) {\n      run_callbacks();\n      return null;\n    }\n    console.debug(\"Bokeh: BokehJS not loaded, scheduling load and callback at\", now());\n    root._bokeh_is_loading = css_urls.length + js_urls.length;\n\n    function on_load() {\n      root._bokeh_is_loading--;\n      if (root._bokeh_is_loading === 0) {\n        console.debug(\"Bokeh: all BokehJS libraries/stylesheets loaded\");\n        run_callbacks()\n      }\n    }\n\n    function on_error(url) {\n      console.error(\"failed to load \" + url);\n    }\n\n    for (let i = 0; i < css_urls.length; i++) {\n      const url = css_urls[i];\n      const element = document.createElement(\"link\");\n      element.onload = on_load;\n      element.onerror = on_error.bind(null, url);\n      element.rel = \"stylesheet\";\n      element.type = \"text/css\";\n      element.href = url;\n      console.debug(\"Bokeh: injecting link tag for BokehJS stylesheet: \", url);\n      document.body.appendChild(element);\n    }\n\n    for (let i = 0; i < js_urls.length; i++) {\n      const url = js_urls[i];\n      const element = document.createElement('script');\n      element.onload = on_load;\n      element.onerror = on_error.bind(null, url);\n      element.async = false;\n      element.src = url;\n      console.debug(\"Bokeh: injecting script tag for BokehJS library: \", url);\n      document.head.appendChild(element);\n    }\n  };\n\n  function inject_raw_css(css) {\n    const element = document.createElement(\"style\");\n    element.appendChild(document.createTextNode(css));\n    document.body.appendChild(element);\n  }\n\n  const js_urls = [\"https://cdn.bokeh.org/bokeh/release/bokeh-3.6.1.min.js\", \"https://cdn.bokeh.org/bokeh/release/bokeh-gl-3.6.1.min.js\", \"https://cdn.bokeh.org/bokeh/release/bokeh-widgets-3.6.1.min.js\", \"https://cdn.bokeh.org/bokeh/release/bokeh-tables-3.6.1.min.js\", \"https://cdn.bokeh.org/bokeh/release/bokeh-mathjax-3.6.1.min.js\"];\n  const css_urls = [];\n\n  const inline_js = [    function(Bokeh) {\n      Bokeh.set_log_level(\"info\");\n    },\nfunction(Bokeh) {\n    }\n  ];\n\n  function run_inline_js() {\n    if (root.Bokeh !== undefined || force === true) {\n      try {\n            for (let i = 0; i < inline_js.length; i++) {\n      inline_js[i].call(root, root.Bokeh);\n    }\n\n      } catch (error) {display_loaded(error);throw error;\n      }if (force === true) {\n        display_loaded();\n      }} else if (Date.now() < root._bokeh_timeout) {\n      setTimeout(run_inline_js, 100);\n    } else if (!root._bokeh_failed_load) {\n      console.log(\"Bokeh: BokehJS failed to load within specified timeout.\");\n      root._bokeh_failed_load = true;\n    } else if (force !== true) {\n      const cell = $(document.getElementById(\"c39cb5e1-c3ac-4324-9c91-216a76421937\")).parents('.cell').data().cell;\n      cell.output_area.append_execute_result(NB_LOAD_WARNING)\n    }\n  }\n\n  if (root._bokeh_is_loading === 0) {\n    console.debug(\"Bokeh: BokehJS loaded, going straight to plotting\");\n    run_inline_js();\n  } else {\n    load_libs(css_urls, js_urls, function() {\n      console.debug(\"Bokeh: BokehJS plotting callback run at\", now());\n      run_inline_js();\n    });\n  }\n}(window));",
      "application/vnd.bokehjs_load.v0+json": ""
     },
     "metadata": {},
     "output_type": "display_data"
    }
   ],
   "source": [
    "from bokeh.models import ColumnDataSource, LabelSet\n",
    "from bokeh.plotting import figure, show, output_file\n",
    "from bokeh.io import output_notebook\n",
    "output_notebook()"
   ]
  },
  {
   "cell_type": "markdown",
   "metadata": {},
   "source": [
    "### Part 0: Download the TED dataset"
   ]
  },
  {
   "cell_type": "code",
   "execution_count": 4,
   "metadata": {},
   "outputs": [],
   "source": [
    "import urllib.request\n",
    "import zipfile\n",
    "import lxml.etree"
   ]
  },
  {
   "cell_type": "code",
   "execution_count": 5,
   "metadata": {},
   "outputs": [],
   "source": [
    "# Download the dataset if it's not already there: this may take a minute as it is 75MB\n",
    "if not os.path.isfile('ted_en-20160408.xml'):\n",
    "    urllib.request.urlretrieve(\"https://github.com/oxford-cs-deepnlp-2017/practical-1/blob/master/ted_en-20160408.xml?raw=true\", filename=\"ted_en-20160408.xml\")"
   ]
  },
  {
   "cell_type": "code",
   "execution_count": 6,
   "metadata": {},
   "outputs": [],
   "source": [
    "# For now, we're only interested in the subtitle text, so let's extract that from the XML:\n",
    "doc = lxml.etree.parse('ted_en-20160408.xml')\n",
    "input_text = '\\n'.join(doc.xpath('//content/text()'))\n",
    "del doc"
   ]
  },
  {
   "cell_type": "markdown",
   "metadata": {},
   "source": [
    "### Part 1: Preprocessing\n",
    "\n",
    "In this part, we attempt to clean up the raw subtitles a bit, so that we get only sentences. The following substring shows examples of what we're trying to get rid of. Since it's hard to define precisely what we want to get rid of, we'll just use some simple heuristics."
   ]
  },
  {
   "cell_type": "code",
   "execution_count": 7,
   "metadata": {
    "scrolled": false
   },
   "outputs": [
    {
     "data": {
      "text/plain": [
       "' baby does.\\n(Video) Hyowon Gweon: See this? (Ball squeaks) Did you see that? (Ball squeaks) Cool. See this one? (Ball squeaks) Wow.\\nLaura Schulz: Told you. (Laughs)\\n(Vide'"
      ]
     },
     "execution_count": 7,
     "metadata": {},
     "output_type": "execute_result"
    }
   ],
   "source": [
    "i = input_text.find(\"Hyowon Gweon: See this?\")\n",
    "input_text[i-20:i+150]"
   ]
  },
  {
   "cell_type": "markdown",
   "metadata": {},
   "source": [
    "Let's start by removing all parenthesized strings using a regex:"
   ]
  },
  {
   "cell_type": "code",
   "execution_count": 8,
   "metadata": {},
   "outputs": [],
   "source": [
    "input_text_noparens = re.sub(r'\\([^)]*\\)', '', input_text)"
   ]
  },
  {
   "cell_type": "markdown",
   "metadata": {},
   "source": [
    "We can verify the same location in the text is now clean as follows. We won't worry about the irregular spaces since we'll later split the text into sentences and tokenize it anyway."
   ]
  },
  {
   "cell_type": "code",
   "execution_count": 9,
   "metadata": {},
   "outputs": [
    {
     "data": {
      "text/plain": [
       "\"hat the baby does.\\n Hyowon Gweon: See this?  Did you see that?  Cool. See this one?  Wow.\\nLaura Schulz: Told you. \\n HG: See this one?  Hey Clara, this one's for you. You \""
      ]
     },
     "execution_count": 9,
     "metadata": {},
     "output_type": "execute_result"
    }
   ],
   "source": [
    "i = input_text_noparens.find(\"Hyowon Gweon: See this?\")\n",
    "input_text_noparens[i-20:i+150]"
   ]
  },
  {
   "cell_type": "markdown",
   "metadata": {},
   "source": [
    "Now, let's attempt to remove speakers' names that occur at the beginning of a line, by deleting pieces of the form \"`<up to 20 characters>:`\", as shown in this example. Of course, this is an imperfect heuristic. "
   ]
  },
  {
   "cell_type": "code",
   "execution_count": 10,
   "metadata": {},
   "outputs": [
    {
     "data": {
      "text/plain": [
       "[\"Here are two reasons companies fail: they only do more of the same, or they only do what's new\",\n",
       " 'To me the real, real solution to quality growth is figuring out the balance between two activities: exploration and exploitation',\n",
       " ' Both are necessary, but it can be too much of a good thing',\n",
       " 'Consider Facit',\n",
       " \" I'm actually old enough to remember them\"]"
      ]
     },
     "execution_count": 10,
     "metadata": {},
     "output_type": "execute_result"
    }
   ],
   "source": [
    "sentences_strings_ted = []\n",
    "for line in input_text_noparens.split('\\n'):\n",
    "    m = re.match(r'^(?:(?P<precolon>[^:]{,20}):)?(?P<postcolon>.*)$', line)\n",
    "    sentences_strings_ted.extend(sent for sent in m.groupdict()['postcolon'].split('.') if sent)\n",
    "\n",
    "# Uncomment if you need to save some RAM: these strings are about 50MB.\n",
    "# del input_text, input_text_noparens\n",
    "\n",
    "# Let's view the first few:\n",
    "sentences_strings_ted[:5]"
   ]
  },
  {
   "cell_type": "markdown",
   "metadata": {},
   "source": [
    "Now that we have sentences, we're ready to tokenize each of them into words. This tokenization is imperfect, of course. For instance, how many tokens is \"can't\", and where/how do we split it? We'll take the simplest naive approach of splitting on spaces. Before splitting, we remove non-alphanumeric characters, such as punctuation. You may want to consider the following question: why do we replace these characters with spaces rather than deleting them? Think of a case where this yields a different answer."
   ]
  },
  {
   "cell_type": "code",
   "execution_count": 11,
   "metadata": {},
   "outputs": [],
   "source": [
    "sentences_ted = []\n",
    "for sent_str in sentences_strings_ted:\n",
    "    tokens = re.sub(r\"[^a-z0-9]+\", \" \", sent_str.lower()).split()\n",
    "    sentences_ted.append(tokens)"
   ]
  },
  {
   "cell_type": "markdown",
   "metadata": {},
   "source": [
    "Two sample processed sentences:"
   ]
  },
  {
   "cell_type": "code",
   "execution_count": 12,
   "metadata": {},
   "outputs": [
    {
     "data": {
      "text/plain": [
       "266694"
      ]
     },
     "execution_count": 12,
     "metadata": {},
     "output_type": "execute_result"
    }
   ],
   "source": [
    "len(sentences_ted)"
   ]
  },
  {
   "cell_type": "code",
   "execution_count": 13,
   "metadata": {},
   "outputs": [
    {
     "name": "stdout",
     "output_type": "stream",
     "text": [
      "['here', 'are', 'two', 'reasons', 'companies', 'fail', 'they', 'only', 'do', 'more', 'of', 'the', 'same', 'or', 'they', 'only', 'do', 'what', 's', 'new']\n",
      "['to', 'me', 'the', 'real', 'real', 'solution', 'to', 'quality', 'growth', 'is', 'figuring', 'out', 'the', 'balance', 'between', 'two', 'activities', 'exploration', 'and', 'exploitation']\n"
     ]
    }
   ],
   "source": [
    "print(sentences_ted[0])\n",
    "print(sentences_ted[1])"
   ]
  },
  {
   "cell_type": "markdown",
   "metadata": {},
   "source": [
    "### Part 2: Word Frequencies"
   ]
  },
  {
   "cell_type": "markdown",
   "metadata": {},
   "source": [
    "If you store the counts of the top 1000 words in a list called `counts_ted_top1000`, the code below will plot the histogram requested in the writeup."
   ]
  },
  {
   "cell_type": "code",
   "execution_count": 14,
   "metadata": {},
   "outputs": [],
   "source": [
    "words = [word for sentence in sentences_ted for word in sentence] \n",
    "uni_word = set(words)\n",
    "len_words = [0]*len(uni_word)\n",
    "d = dict(zip(uni_word,len_words))\n",
    "for word in words:\n",
    "    d[word] += 1"
   ]
  },
  {
   "cell_type": "code",
   "execution_count": 15,
   "metadata": {},
   "outputs": [
    {
     "name": "stdout",
     "output_type": "stream",
     "text": [
      "('the', 'and', 'to', 'of', 'a') (207748, 149305, 125169, 114818, 105399)\n",
      "[207748, 149305, 125169, 114818, 105399] ['the', 'and', 'to', 'of', 'a']\n"
     ]
    }
   ],
   "source": [
    "import operator\n",
    "ted_top1000 = [(i,j) for i,j in sorted(d.items(),key=operator.itemgetter(1),reverse=True)[:1000]]\n",
    "counts_ted_top1000, ted_top1000_words = zip(*ted_top1000) \n",
    "print(counts_ted_top1000[:5], ted_top1000_words[:5])\n",
    "counts_ted_top1000 = []\n",
    "ted_top1000_words = []\n",
    "for i in ted_top1000:\n",
    "    counts_ted_top1000.append(i[1])\n",
    "    ted_top1000_words.append(i[0])\n",
    "print(counts_ted_top1000[:5], ted_top1000_words[:5])\n"
   ]
  },
  {
   "cell_type": "markdown",
   "metadata": {},
   "source": [
    "Plot distribution of top-1000 words"
   ]
  },
  {
   "cell_type": "code",
   "execution_count": 16,
   "metadata": {},
   "outputs": [
    {
     "data": {
      "text/html": [
       "\n",
       "  <div id=\"ff565e7f-c205-4b66-bcac-855e64cfd65e\" data-root-id=\"p1001\" style=\"display: contents;\"></div>\n"
      ]
     },
     "metadata": {},
     "output_type": "display_data"
    },
    {
     "data": {
      "application/javascript": "(function(root) {\n  function embed_document(root) {\n  const docs_json = {\"8a5869b8-e4d0-41a1-94a5-f0dcaa9a3815\":{\"version\":\"3.6.1\",\"title\":\"Bokeh Application\",\"roots\":[{\"type\":\"object\",\"name\":\"Figure\",\"id\":\"p1001\",\"attributes\":{\"x_range\":{\"type\":\"object\",\"name\":\"DataRange1d\",\"id\":\"p1002\"},\"y_range\":{\"type\":\"object\",\"name\":\"DataRange1d\",\"id\":\"p1003\"},\"x_scale\":{\"type\":\"object\",\"name\":\"LinearScale\",\"id\":\"p1011\"},\"y_scale\":{\"type\":\"object\",\"name\":\"LinearScale\",\"id\":\"p1012\"},\"title\":{\"type\":\"object\",\"name\":\"Title\",\"id\":\"p1004\",\"attributes\":{\"text\":\"Top-1000 words distribution\"}},\"renderers\":[{\"type\":\"object\",\"name\":\"GlyphRenderer\",\"id\":\"p1033\",\"attributes\":{\"data_source\":{\"type\":\"object\",\"name\":\"ColumnDataSource\",\"id\":\"p1027\",\"attributes\":{\"selected\":{\"type\":\"object\",\"name\":\"Selection\",\"id\":\"p1028\",\"attributes\":{\"indices\":[],\"line_indices\":[]}},\"selection_policy\":{\"type\":\"object\",\"name\":\"UnionRenderers\",\"id\":\"p1029\"},\"data\":{\"type\":\"map\",\"entries\":[[\"top\",{\"type\":\"ndarray\",\"array\":{\"type\":\"bytes\",\"data\":\"50H1zNSBOT/ypb1tgHIBPwsriUb5Uew+zuTFiLI04j78kGUPxTHhPh40R25oQNY+zuTFiLI00j4pPQWW1y7APsTbB2FDRsg+JT0FltcuwD4tPQWW1y6wPi09BZbXLrA+JT0FltcuwD4tPQWW1y6gPiU9BZbXLrA+LT0FltcuoD4AAAAAAAAAADU9BZbXLqA+AAAAAAAAAAAAAAAAAAAAAAAAAAAAAAAAAAAAAAAAAAAAAAAAAAAAADU9BZbXLqA+AAAAAAAAAAAAAAAAAAAAAAAAAAAAAAAANT0FltcuoD4AAAAAAAAAAAAAAAAAAAAANT0FltcuoD4AAAAAAAAAACU9BZbXLqA+AAAAAAAAAAAlPQWW1y6gPkU9BZbXLqA+AAAAAAAAAAAlPQWW1y6gPgAAAAAAAAAAJT0FltcuoD4AAAAAAAAAAAAAAAAAAAAAAAAAAAAAAAAAAAAAAAAAAAAAAAAAAAAAJT0FltcuoD4AAAAAAAAAAAAAAAAAAAAAAAAAAAAAAAAAAAAAAAAAACU9BZbXLqA+AAAAAAAAAAAAAAAAAAAAAAAAAAAAAAAAAAAAAAAAAAAlPQWW1y6gPgAAAAAAAAAAAAAAAAAAAAAAAAAAAAAAAAAAAAAAAAAART0FltcuoD4AAAAAAAAAAAAAAAAAAAAAAAAAAAAAAAAAAAAAAAAAAAAAAAAAAAAAAAAAAAAAAAAAAAAAAAAAAAAAAAAAAAAAAAAAAAAAAAAAAAAAAAAAACU9BZbXLqA+AAAAAAAAAAAAAAAAAAAAAAAAAAAAAAAAAAAAAAAAAAAAAAAAAAAAAAAAAAAAAAAAAAAAAAAAAAAAAAAAAAAAAAAAAAAAAAAAAAAAAAAAAAAAAAAAAAAAAAAAAAAAAAAAAAAAAAAAAAAAAAAAAAAAAAAAAAAAAAAAAAAAAAAAAAAAAAAAAAAAAAAAAAAAAAAAAAAAAAAAAAAAAAAAAAAAAAAAAAAAAAAAAAAAAAAAAAAAAAAAAAAAAAAAAAAAAAAAAAAAAAAAAAAAAAAAAAAAAAAAAAAAAAAAJT0FltcuoD4=\"},\"shape\":[100],\"dtype\":\"float64\",\"order\":\"little\"}],[\"left\",{\"type\":\"ndarray\",\"array\":{\"type\":\"bytes\",\"data\":\"AAAAAABAeUB7FK5H4VqjQHsUrkfhxrFAuB6F61HguUB7FK5H4fzAQJqZmZmZCcVAuB6F61EWyUDXo3A9CiPNQHsUrkfhl9BACtejcD2e0kCamZmZmaTUQClcj8L1qtZAuB6F61Gx2EBI4XoUrrfaQNejcD0KvtxAZ2ZmZmbE3kB7FK5HYWXgQMP1KFyPaOFACtejcL1r4kBSuB6F627jQJqZmZkZcuRA4XoUrkd15UApXI/CdXjmQHE9Cteje+dAuB6F69F+6EAAAAAAAILpQEjhehQuhepAkML1KFyI60DXo3A9iovsQB+F61G4ju1AZ2ZmZuaR7kCuR+F6FJXvQHsUrkchTPBAH4XrUbjN8EDD9ShcT0/xQGdmZmbm0PFACtejcH1S8kCuR+F6FNTyQFK4HoWrVfNA9ihcj0LX80CamZmZ2Vj0QD4K16Nw2vRA4XoUrgdc9UCF61G4nt31QClcj8I1X/ZAzczMzMzg9kBxPQrXY2L3QBWuR+H64/dAuB6F65Fl+EBcj8L1KOf4QAAAAADAaPlApHA9Clfq+UBI4XoU7mv6QOxRuB6F7fpAkML1KBxv+0AzMzMzs/D7QNejcD1KcvxAexSuR+Hz/EAfhetReHX9QMP1KFwP9/1AZ2ZmZqZ4/kAK16NwPfr+QK5H4XrUe/9AUrgehWv9/0B7FK5HgT8AQc3MzMxMgABBH4XrURjBAEFxPQrX4wEBQcP1KFyvQgFBFa5H4XqDAUFnZmZmRsQBQbgehesRBQJBCtejcN1FAkFcj8L1qIYCQa5H4Xp0xwJBAAAAAEAIA0FSuB6FC0kDQaRwPQrXiQNB9ihcj6LKA0FI4XoUbgsEQZqZmZk5TARB7FG4HgWNBEE+Ctej0M0EQZDC9SicDgVB4XoUrmdPBUEzMzMzM5AFQYXrUbj+0AVB16NwPcoRBkEpXI/ClVIGQXsUrkdhkwZBzczMzCzUBkEfhetR+BQHQXE9CtfDVQdBw/UoXI+WB0EVrkfhWtcHQWdmZmYmGAhBuB6F6/FYCEEK16NwvZkIQVyPwvWI2ghBrkfhelQbCUE=\"},\"shape\":[100],\"dtype\":\"float64\",\"order\":\"little\"}],[\"right\",{\"type\":\"ndarray\",\"array\":{\"type\":\"bytes\",\"data\":\"exSuR+Fao0B7FK5H4caxQLgehetR4LlAexSuR+H8wECamZmZmQnFQLgehetRFslA16NwPQojzUB7FK5H4ZfQQArXo3A9ntJAmpmZmZmk1EApXI/C9arWQLgehetRsdhASOF6FK632kDXo3A9Cr7cQGdmZmZmxN5AexSuR2Fl4EDD9Shcj2jhQArXo3C9a+JAUrgehetu40CamZmZGXLkQOF6FK5HdeVAKVyPwnV45kBxPQrXo3vnQLgehevRfuhAAAAAAACC6UBI4XoULoXqQJDC9ShciOtA16NwPYqL7EAfhetRuI7tQGdmZmbmke5ArkfhehSV70B7FK5HIUzwQB+F61G4zfBAw/UoXE9P8UBnZmZm5tDxQArXo3B9UvJArkfhehTU8kBSuB6Fq1XzQPYoXI9C1/NAmpmZmdlY9EA+CtejcNr0QOF6FK4HXPVAhetRuJ7d9UApXI/CNV/2QM3MzMzM4PZAcT0K12Ni90AVrkfh+uP3QLgeheuRZfhAXI/C9Sjn+EAAAAAAwGj5QKRwPQpX6vlASOF6FO5r+kDsUbgehe36QJDC9Sgcb/tAMzMzM7Pw+0DXo3A9SnL8QHsUrkfh8/xAH4XrUXh1/UDD9ShcD/f9QGdmZmameP5ACtejcD36/kCuR+F61Hv/QFK4HoVr/f9AexSuR4E/AEHNzMzMTIAAQR+F61EYwQBBcT0K1+MBAUHD9Shcr0IBQRWuR+F6gwFBZ2ZmZkbEAUG4HoXrEQUCQQrXo3DdRQJBXI/C9aiGAkGuR+F6dMcCQQAAAABACANBUrgehQtJA0GkcD0K14kDQfYoXI+iygNBSOF6FG4LBEGamZmZOUwEQexRuB4FjQRBPgrXo9DNBEGQwvUonA4FQeF6FK5nTwVBMzMzMzOQBUGF61G4/tAFQdejcD3KEQZBKVyPwpVSBkF7FK5HYZMGQc3MzMws1AZBH4XrUfgUB0FxPQrXw1UHQcP1KFyPlgdBFa5H4VrXB0FnZmZmJhgIQbgehevxWAhBCtejcL2ZCEFcj8L1iNoIQa5H4XpUGwlBAAAAACBcCUE=\"},\"shape\":[100],\"dtype\":\"float64\",\"order\":\"little\"}]]}}},\"view\":{\"type\":\"object\",\"name\":\"CDSView\",\"id\":\"p1034\",\"attributes\":{\"filter\":{\"type\":\"object\",\"name\":\"AllIndices\",\"id\":\"p1035\"}}},\"glyph\":{\"type\":\"object\",\"name\":\"Quad\",\"id\":\"p1030\",\"attributes\":{\"left\":{\"type\":\"field\",\"field\":\"left\"},\"right\":{\"type\":\"field\",\"field\":\"right\"},\"bottom\":{\"type\":\"value\",\"value\":0},\"top\":{\"type\":\"field\",\"field\":\"top\"},\"line_color\":{\"type\":\"value\",\"value\":\"#555555\"},\"fill_color\":{\"type\":\"value\",\"value\":\"#1f77b4\"}}},\"nonselection_glyph\":{\"type\":\"object\",\"name\":\"Quad\",\"id\":\"p1031\",\"attributes\":{\"left\":{\"type\":\"field\",\"field\":\"left\"},\"right\":{\"type\":\"field\",\"field\":\"right\"},\"bottom\":{\"type\":\"value\",\"value\":0},\"top\":{\"type\":\"field\",\"field\":\"top\"},\"line_color\":{\"type\":\"value\",\"value\":\"#555555\"},\"line_alpha\":{\"type\":\"value\",\"value\":0.1},\"fill_color\":{\"type\":\"value\",\"value\":\"#1f77b4\"},\"fill_alpha\":{\"type\":\"value\",\"value\":0.1},\"hatch_alpha\":{\"type\":\"value\",\"value\":0.1}}},\"muted_glyph\":{\"type\":\"object\",\"name\":\"Quad\",\"id\":\"p1032\",\"attributes\":{\"left\":{\"type\":\"field\",\"field\":\"left\"},\"right\":{\"type\":\"field\",\"field\":\"right\"},\"bottom\":{\"type\":\"value\",\"value\":0},\"top\":{\"type\":\"field\",\"field\":\"top\"},\"line_color\":{\"type\":\"value\",\"value\":\"#555555\"},\"line_alpha\":{\"type\":\"value\",\"value\":0.2},\"fill_color\":{\"type\":\"value\",\"value\":\"#1f77b4\"},\"fill_alpha\":{\"type\":\"value\",\"value\":0.2},\"hatch_alpha\":{\"type\":\"value\",\"value\":0.2}}}}}],\"toolbar\":{\"type\":\"object\",\"name\":\"Toolbar\",\"id\":\"p1010\",\"attributes\":{\"tools\":[{\"type\":\"object\",\"name\":\"PanTool\",\"id\":\"p1023\"},{\"type\":\"object\",\"name\":\"WheelZoomTool\",\"id\":\"p1024\",\"attributes\":{\"renderers\":\"auto\"}},{\"type\":\"object\",\"name\":\"ResetTool\",\"id\":\"p1025\"},{\"type\":\"object\",\"name\":\"SaveTool\",\"id\":\"p1026\"}]}},\"toolbar_location\":\"above\",\"left\":[{\"type\":\"object\",\"name\":\"LinearAxis\",\"id\":\"p1018\",\"attributes\":{\"ticker\":{\"type\":\"object\",\"name\":\"BasicTicker\",\"id\":\"p1019\",\"attributes\":{\"mantissas\":[1,2,5]}},\"formatter\":{\"type\":\"object\",\"name\":\"BasicTickFormatter\",\"id\":\"p1020\"},\"major_label_policy\":{\"type\":\"object\",\"name\":\"AllLabels\",\"id\":\"p1021\"}}}],\"below\":[{\"type\":\"object\",\"name\":\"LinearAxis\",\"id\":\"p1013\",\"attributes\":{\"ticker\":{\"type\":\"object\",\"name\":\"BasicTicker\",\"id\":\"p1014\",\"attributes\":{\"mantissas\":[1,2,5]}},\"formatter\":{\"type\":\"object\",\"name\":\"BasicTickFormatter\",\"id\":\"p1015\"},\"major_label_policy\":{\"type\":\"object\",\"name\":\"AllLabels\",\"id\":\"p1016\"}}}],\"center\":[{\"type\":\"object\",\"name\":\"Grid\",\"id\":\"p1017\",\"attributes\":{\"axis\":{\"id\":\"p1013\"}}},{\"type\":\"object\",\"name\":\"Grid\",\"id\":\"p1022\",\"attributes\":{\"dimension\":1,\"axis\":{\"id\":\"p1018\"}}}]}}]}};\n  const render_items = [{\"docid\":\"8a5869b8-e4d0-41a1-94a5-f0dcaa9a3815\",\"roots\":{\"p1001\":\"ff565e7f-c205-4b66-bcac-855e64cfd65e\"},\"root_ids\":[\"p1001\"]}];\n  void root.Bokeh.embed.embed_items_notebook(docs_json, render_items);\n  }\n  if (root.Bokeh !== undefined) {\n    embed_document(root);\n  } else {\n    let attempts = 0;\n    const timer = setInterval(function(root) {\n      if (root.Bokeh !== undefined) {\n        clearInterval(timer);\n        embed_document(root);\n      } else {\n        attempts++;\n        if (attempts > 100) {\n          clearInterval(timer);\n          console.log(\"Bokeh: ERROR: Unable to run BokehJS code because BokehJS library is missing\");\n        }\n      }\n    }, 10, root)\n  }\n})(window);",
      "application/vnd.bokehjs_exec.v0+json": ""
     },
     "metadata": {
      "application/vnd.bokehjs_exec.v0+json": {
       "id": "p1001"
      }
     },
     "output_type": "display_data"
    }
   ],
   "source": [
    "hist, edges = np.histogram(counts_ted_top1000, density=True, bins=100)\n",
    "\n",
    "p = figure(tools=\"pan,wheel_zoom,reset,save\",\n",
    "           toolbar_location=\"above\",\n",
    "           title=\"Top-1000 words distribution\")\n",
    "p.quad(top=hist, bottom=0, left=edges[:-1], right=edges[1:], line_color=\"#555555\")\n",
    "show(p)"
   ]
  },
  {
   "cell_type": "markdown",
   "metadata": {},
   "source": [
    "### Part 3: Train Word2Vec"
   ]
  },
  {
   "cell_type": "code",
   "execution_count": 17,
   "metadata": {},
   "outputs": [],
   "source": [
    "from gensim.models import Word2Vec"
   ]
  },
  {
   "cell_type": "code",
   "execution_count": 18,
   "metadata": {},
   "outputs": [
    {
     "data": {
      "text/plain": [
       "14427"
      ]
     },
     "execution_count": 18,
     "metadata": {},
     "output_type": "execute_result"
    }
   ],
   "source": [
    "model_ted=Word2Vec(sentences=sentences_ted, vector_size=100, window=5, min_count=10, workers=4)\n",
    "model_ted.save(\"word2vec.model\")\n",
    "len(model_ted.wv.key_to_index)"
   ]
  },
  {
   "cell_type": "markdown",
   "metadata": {},
   "source": [
    "### Part 4: Ted Learnt Representations"
   ]
  },
  {
   "cell_type": "markdown",
   "metadata": {},
   "source": [
    "Finding similar words: (see gensim docs for more functionality of `most_similar`)"
   ]
  },
  {
   "cell_type": "code",
   "execution_count": 19,
   "metadata": {},
   "outputs": [
    {
     "data": {
      "text/plain": [
       "[('woman', 0.8372512459754944),\n",
       " ('guy', 0.7900139093399048),\n",
       " ('lady', 0.7658047080039978),\n",
       " ('boy', 0.7323655486106873),\n",
       " ('girl', 0.7319849133491516),\n",
       " ('gentleman', 0.7122301459312439),\n",
       " ('soldier', 0.7070080637931824),\n",
       " ('poet', 0.6592401266098022),\n",
       " ('kid', 0.6515142321586609),\n",
       " ('john', 0.6467429995536804)]"
      ]
     },
     "execution_count": 19,
     "metadata": {},
     "output_type": "execute_result"
    }
   ],
   "source": [
    "model_ted.wv.most_similar(\"man\")"
   ]
  },
  {
   "cell_type": "code",
   "execution_count": 20,
   "metadata": {},
   "outputs": [
    {
     "data": {
      "text/plain": [
       "[('girl', 0.9291062355041504),\n",
       " ('kid', 0.8552013039588928),\n",
       " ('woman', 0.7953968048095703),\n",
       " ('lady', 0.7949485778808594),\n",
       " ('baby', 0.7519097328186035),\n",
       " ('man', 0.7323653697967529),\n",
       " ('mary', 0.7063305974006653),\n",
       " ('sister', 0.6987770199775696),\n",
       " ('joke', 0.6951135993003845),\n",
       " ('guy', 0.6891612410545349)]"
      ]
     },
     "execution_count": 20,
     "metadata": {},
     "output_type": "execute_result"
    }
   ],
   "source": [
    "model_ted.wv.most_similar(\"boy\")"
   ]
  },
  {
   "cell_type": "code",
   "execution_count": 21,
   "metadata": {},
   "outputs": [
    {
     "data": {
      "text/plain": [
       "['the', 'and', 'to', 'of', 'a']"
      ]
     },
     "execution_count": 21,
     "metadata": {},
     "output_type": "execute_result"
    }
   ],
   "source": [
    "words_top_ted=[]\n",
    "words_top_ted=ted_top1000_words\n",
    "words_top_ted[:5]"
   ]
  },
  {
   "cell_type": "markdown",
   "metadata": {},
   "source": [
    "#### t-SNE visualization\n",
    "To use the t-SNE code below, first put a list of the top 1000 words (as strings) into a variable `words_top_ted`. The following code gets the corresponding vectors from the model, assuming it's called `model_ted`:"
   ]
  },
  {
   "cell_type": "code",
   "execution_count": 22,
   "metadata": {},
   "outputs": [],
   "source": [
    "# This assumes words_top_ted is a list of strings, the top 1000 words\n",
    "words_top_vec_ted = []\n",
    "words_top_vec_ted = model_ted.wv[words_top_ted]"
   ]
  },
  {
   "cell_type": "code",
   "execution_count": 23,
   "metadata": {},
   "outputs": [],
   "source": [
    "from sklearn.manifold import TSNE\n",
    "tsne = TSNE(n_components=2, random_state=0)\n",
    "words_top_ted_tsne = tsne.fit_transform(words_top_vec_ted)"
   ]
  },
  {
   "cell_type": "code",
   "execution_count": 27,
   "metadata": {},
   "outputs": [
    {
     "data": {
      "text/html": [
       "\n",
       "  <div id=\"f9b1a1ec-0dec-4787-800c-f07877ea6ad5\" data-root-id=\"p1083\" style=\"display: contents;\"></div>\n"
      ]
     },
     "metadata": {},
     "output_type": "display_data"
    },
    {
     "data": {
      "application/javascript": "(function(root) {\n  function embed_document(root) {\n  const docs_json = {\"b76469c9-c4b3-4f05-b4f0-6920b29b8d19\":{\"version\":\"3.6.1\",\"title\":\"Bokeh Application\",\"roots\":[{\"type\":\"object\",\"name\":\"Figure\",\"id\":\"p1083\",\"attributes\":{\"x_range\":{\"type\":\"object\",\"name\":\"DataRange1d\",\"id\":\"p1084\"},\"y_range\":{\"type\":\"object\",\"name\":\"DataRange1d\",\"id\":\"p1085\"},\"x_scale\":{\"type\":\"object\",\"name\":\"LinearScale\",\"id\":\"p1093\"},\"y_scale\":{\"type\":\"object\",\"name\":\"LinearScale\",\"id\":\"p1094\"},\"title\":{\"type\":\"object\",\"name\":\"Title\",\"id\":\"p1086\",\"attributes\":{\"text\":\"word2vec T-SNE for most common words\"}},\"renderers\":[{\"type\":\"object\",\"name\":\"GlyphRenderer\",\"id\":\"p1118\",\"attributes\":{\"data_source\":{\"type\":\"object\",\"name\":\"ColumnDataSource\",\"id\":\"p1109\",\"attributes\":{\"selected\":{\"type\":\"object\",\"name\":\"Selection\",\"id\":\"p1110\",\"attributes\":{\"indices\":[],\"line_indices\":[]}},\"selection_policy\":{\"type\":\"object\",\"name\":\"UnionRenderers\",\"id\":\"p1111\"},\"data\":{\"type\":\"map\",\"entries\":[[\"x1\",{\"type\":\"ndarray\",\"array\":{\"type\":\"bytes\",\"data\":\"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\"},\"shape\":[1000],\"dtype\":\"float32\",\"order\":\"little\"}],[\"x2\",{\"type\":\"ndarray\",\"array\":{\"type\":\"bytes\",\"data\":\"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\"},\"shape\":[1000],\"dtype\":\"float32\",\"order\":\"little\"}],[\"names\",[\"the\",\"and\",\"to\",\"of\",\"a\",\"that\",\"i\",\"in\",\"it\",\"you\",\"we\",\"is\",\"s\",\"this\",\"so\",\"they\",\"was\",\"for\",\"are\",\"have\",\"but\",\"what\",\"on\",\"with\",\"can\",\"t\",\"about\",\"there\",\"be\",\"as\",\"at\",\"all\",\"not\",\"do\",\"my\",\"one\",\"re\",\"people\",\"like\",\"if\",\"from\",\"now\",\"our\",\"he\",\"an\",\"just\",\"these\",\"or\",\"when\",\"because\",\"very\",\"me\",\"out\",\"by\",\"them\",\"how\",\"know\",\"up\",\"going\",\"had\",\"more\",\"think\",\"who\",\"were\",\"see\",\"your\",\"their\",\"which\",\"would\",\"here\",\"really\",\"get\",\"ve\",\"then\",\"m\",\"world\",\"us\",\"time\",\"some\",\"has\",\"don\",\"actually\",\"into\",\"way\",\"where\",\"will\",\"years\",\"things\",\"other\",\"no\",\"could\",\"go\",\"well\",\"want\",\"been\",\"make\",\"right\",\"she\",\"said\",\"something\",\"those\",\"first\",\"two\",\"than\",\"much\",\"also\",\"look\",\"new\",\"thing\",\"little\",\"got\",\"back\",\"over\",\"most\",\"say\",\"even\",\"his\",\"life\",\"only\",\"work\",\"many\",\"take\",\"need\",\"did\",\"lot\",\"kind\",\"why\",\"good\",\"around\",\"every\",\"different\",\"down\",\"ll\",\"let\",\"her\",\"through\",\"same\",\"being\",\"come\",\"d\",\"day\",\"year\",\"three\",\"use\",\"doing\",\"put\",\"called\",\"any\",\"today\",\"percent\",\"made\",\"after\",\"thank\",\"tell\",\"great\",\"human\",\"find\",\"didn\",\"fact\",\"talk\",\"change\",\"started\",\"another\",\"idea\",\"big\",\"last\",\"own\",\"before\",\"its\",\"never\",\"should\",\"better\",\"give\",\"thought\",\"went\",\"might\",\"important\",\"000\",\"again\",\"together\",\"able\",\"still\",\"problem\",\"off\",\"next\",\"part\",\"course\",\"system\",\"him\",\"does\",\"each\",\"start\",\"show\",\"long\",\"ago\",\"story\",\"came\",\"brain\",\"few\",\"bit\",\"between\",\"used\",\"place\",\"technology\",\"women\",\"too\",\"old\",\"mean\",\"data\",\"water\",\"looking\",\"question\",\"maybe\",\"found\",\"love\",\"doesn\",\"end\",\"example\",\"10\",\"done\",\"point\",\"four\",\"real\",\"wanted\",\"ever\",\"understand\",\"school\",\"sort\",\"live\",\"call\",\"whole\",\"always\",\"children\",\"trying\",\"may\",\"person\",\"away\",\"feel\",\"believe\",\"try\",\"million\",\"working\",\"help\",\"everything\",\"five\",\"country\",\"thinking\",\"second\",\"using\",\"information\",\"money\",\"means\",\"took\",\"power\",\"times\",\"high\",\"space\",\"number\",\"kids\",\"home\",\"become\",\"create\",\"small\",\"design\",\"making\",\"best\",\"left\",\"getting\",\"future\",\"enough\",\"man\",\"quite\",\"city\",\"without\",\"sense\",\"happened\",\"comes\",\"social\",\"probably\",\"less\",\"light\",\"energy\",\"talking\",\"am\",\"building\",\"science\",\"food\",\"body\",\"told\",\"interesting\",\"half\",\"ask\",\"pretty\",\"play\",\"hard\",\"anything\",\"lives\",\"countries\",\"coming\",\"such\",\"family\",\"stuff\",\"dollars\",\"earth\",\"moment\",\"20\",\"imagine\",\"across\",\"side\",\"saw\",\"while\",\"happen\",\"okay\",\"once\",\"build\",\"having\",\"men\",\"later\",\"experience\",\"makes\",\"asked\",\"living\",\"seen\",\"says\",\"room\",\"hand\",\"simple\",\"health\",\"ways\",\"else\",\"case\",\"almost\",\"yet\",\"young\",\"days\",\"nothing\",\"bad\",\"care\",\"happens\",\"goes\",\"move\",\"states\",\"reason\",\"computer\",\"open\",\"africa\",\"learn\",\"process\",\"inside\",\"someone\",\"six\",\"far\",\"project\",\"mind\",\"remember\",\"single\",\"picture\",\"both\",\"whether\",\"problems\",\"community\",\"basically\",\"saying\",\"already\",\"within\",\"looked\",\"myself\",\"billion\",\"possible\",\"often\",\"business\",\"planet\",\"global\",\"everybody\",\"top\",\"public\",\"sure\",\"set\",\"wrong\",\"book\",\"car\",\"keep\",\"answer\",\"yes\",\"oh\",\"hope\",\"sometimes\",\"history\",\"true\",\"war\",\"guy\",\"child\",\"instead\",\"months\",\"ideas\",\"looks\",\"matter\",\"government\",\"amazing\",\"united\",\"since\",\"age\",\"cells\",\"bring\",\"job\",\"heard\",\"until\",\"face\",\"wasn\",\"100\",\"read\",\"control\",\"isn\",\"research\",\"30\",\"words\",\"u\",\"group\",\"under\",\"self\",\"somebody\",\"built\",\"state\",\"woman\",\"turn\",\"beautiful\",\"friends\",\"line\",\"knew\",\"couple\",\"order\",\"form\",\"yeah\",\"internet\",\"middle\",\"music\",\"piece\",\"nature\",\"head\",\"though\",\"stop\",\"everyone\",\"50\",\"places\",\"video\",\"language\",\"learned\",\"run\",\"night\",\"decided\",\"study\",\"word\",\"cancer\",\"works\",\"taking\",\"became\",\"exactly\",\"species\",\"completely\",\"society\",\"education\",\"against\",\"stories\",\"large\",\"share\",\"level\",\"heart\",\"america\",\"model\",\"questions\",\"gets\",\"mother\",\"god\",\"company\",\"turns\",\"ourselves\",\"happening\",\"hear\",\"art\",\"themselves\",\"must\",\"itself\",\"rather\",\"kinds\",\"students\",\"name\",\"hours\",\"disease\",\"front\",\"house\",\"couldn\",\"huge\",\"created\",\"universe\",\"ok\",\"animals\",\"american\",\"environment\",\"worked\",\"minutes\",\"ones\",\"black\",\"perhaps\",\"1\",\"past\",\"third\",\"along\",\"finally\",\"others\",\"sound\",\"early\",\"game\",\"thousands\",\"century\",\"least\",\"based\",\"per\",\"ted\",\"lots\",\"figure\",\"free\",\"particular\",\"guys\",\"happy\",\"news\",\"learning\",\"entire\",\"won\",\"gave\",\"machine\",\"india\",\"during\",\"systems\",\"air\",\"difference\",\"outside\",\"taken\",\"natural\",\"seven\",\"changed\",\"given\",\"leave\",\"cell\",\"15\",\"close\",\"cities\",\"behind\",\"full\",\"scale\",\"difficult\",\"china\",\"takes\",\"companies\",\"yourself\",\"area\",\"reality\",\"seeing\",\"easy\",\"turned\",\"cost\",\"eyes\",\"team\",\"moving\",\"population\",\"culture\",\"york\",\"hands\",\"began\",\"whatever\",\"terms\",\"needs\",\"image\",\"simply\",\"needed\",\"beginning\",\"father\",\"local\",\"realized\",\"media\",\"parents\",\"death\",\"walk\",\"view\",\"white\",\"market\",\"parts\",\"ocean\",\"economic\",\"eight\",\"powerful\",\"week\",\"known\",\"size\",\"felt\",\"humans\",\"certain\",\"spend\",\"longer\",\"phone\",\"wonderful\",\"cannot\",\"common\",\"grow\",\"tried\",\"center\",\"fish\",\"land\",\"oil\",\"interested\",\"deal\",\"political\",\"red\",\"gone\",\"amount\",\"weeks\",\"spent\",\"opportunity\",\"paper\",\"lost\",\"quickly\",\"national\",\"blue\",\"step\",\"poor\",\"green\",\"buy\",\"wouldn\",\"growth\",\"either\",\"patients\",\"sitting\",\"ability\",\"changes\",\"write\",\"south\",\"challenge\",\"low\",\"growing\",\"friend\",\"field\",\"shows\",\"2\",\"born\",\"rest\",\"climate\",\"40\",\"test\",\"street\",\"surface\",\"incredible\",\"average\",\"physical\",\"value\",\"scientists\",\"morning\",\"program\",\"pay\",\"met\",\"behavior\",\"girl\",\"feeling\",\"hundreds\",\"economy\",\"dna\",\"complex\",\"access\",\"risk\",\"animal\",\"structure\",\"feet\",\"attention\",\"areas\",\"anyone\",\"deep\",\"watch\",\"short\",\"absolutely\",\"speak\",\"brought\",\"bottom\",\"die\",\"audience\",\"numbers\",\"stage\",\"realize\",\"images\",\"law\",\"wrote\",\"understanding\",\"literally\",\"knowledge\",\"books\",\"movement\",\"giving\",\"ground\",\"eat\",\"force\",\"alone\",\"seems\",\"telling\",\"starting\",\"hold\",\"nice\",\"sea\",\"forward\",\"developed\",\"kid\",\"individual\",\"millions\",\"support\",\"running\",\"tools\",\"miles\",\"online\",\"result\",\"act\",\"technologies\",\"medical\",\"north\",\"lab\",\"development\",\"blood\",\"fear\",\"nobody\",\"map\",\"personal\",\"voice\",\"issue\",\"material\",\"key\",\"recently\",\"12\",\"theory\",\"cut\",\"cars\",\"sun\",\"fast\",\"changing\",\"playing\",\"clear\",\"especially\",\"girls\",\"patient\",\"soon\",\"choice\",\"fly\",\"creating\",\"discovered\",\"relationship\",\"europe\",\"normal\",\"talked\",\"gives\",\"generation\",\"dark\",\"type\",\"showed\",\"industry\",\"chance\",\"asking\",\"seem\",\"rate\",\"issues\",\"designed\",\"fun\",\"hour\",\"color\",\"class\",\"university\",\"innovation\",\"computers\",\"several\",\"tiny\",\"english\",\"allow\",\"save\",\"focus\",\"digital\",\"developing\",\"solve\",\"film\",\"network\",\"special\",\"wall\",\"situation\",\"baby\",\"solution\",\"box\",\"reasons\",\"knows\",\"dead\",\"meet\",\"stand\",\"haven\",\"anybody\",\"impact\",\"begin\",\"term\",\"pictures\",\"beyond\",\"please\",\"produce\",\"ice\",\"shape\",\"non\",\"robot\",\"cool\",\"resources\",\"stay\",\"groups\",\"likely\",\"rights\",\"available\",\"major\",\"truth\",\"evidence\",\"experiment\",\"obviously\",\"writing\",\"cause\",\"modern\",\"drug\",\"incredibly\",\"becomes\",\"guess\",\"bigger\",\"aren\",\"product\",\"nine\",\"drugs\",\"lived\",\"involved\",\"perfect\",\"google\",\"month\",\"similar\",\"effect\",\"putting\",\"eye\",\"pick\",\"message\",\"quality\",\"violence\",\"web\",\"evolution\",\"office\",\"security\",\"general\",\"indeed\",\"basic\",\"solar\",\"towards\",\"drive\",\"present\",\"listen\",\"worth\",\"send\",\"revolution\",\"explain\",\"hundred\",\"certainly\",\"died\",\"teach\",\"ready\",\"journey\",\"25\",\"hit\",\"walking\",\"led\",\"international\",\"approach\",\"200\",\"scientific\",\"games\",\"60\",\"potential\",\"communities\",\"crazy\",\"chinese\",\"device\",\"source\",\"camera\",\"carbon\",\"sex\",\"rules\",\"sounds\",\"boy\",\"reach\",\"starts\",\"examples\",\"west\",\"3\",\"measure\",\"software\",\"success\",\"particularly\",\"totally\",\"suddenly\",\"action\",\"higher\",\"college\",\"code\",\"eventually\",\"democracy\",\"among\",\"minute\",\"sit\",\"largest\",\"showing\",\"hospital\",\"period\",\"notice\",\"develop\",\"mass\",\"onto\",\"dream\",\"memory\",\"add\",\"plants\",\"break\",\"favorite\",\"11\",\"everywhere\",\"zero\",\"moved\",\"response\",\"schools\",\"speed\",\"wants\",\"movie\",\"extremely\",\"table\",\"individuals\",\"wait\",\"anyway\",\"medicine\",\"follow\",\"trust\",\"biggest\",\"plant\",\"organization\",\"watching\",\"road\",\"creative\",\"worse\",\"choose\",\"500\",\"results\",\"lead\",\"exciting\",\"grew\",\"materials\",\"jobs\",\"poverty\",\"plan\",\"positive\",\"east\",\"safe\",\"strong\",\"fall\",\"essentially\",\"object\",\"door\",\"happiness\",\"further\",\"son\",\"vision\",\"continue\",\"doctor\",\"student\",\"objects\",\"role\",\"including\",\"named\",\"extraordinary\",\"standing\",\"usually\",\"african\",\"leaders\",\"conversation\",\"projects\",\"skin\",\"models\",\"allowed\",\"supposed\",\"faster\",\"interest\",\"families\",\"police\",\"fight\",\"connected\",\"tree\",\"5\",\"screen\",\"cases\",\"goal\",\"somewhere\",\"shown\",\"finding\",\"buildings\"]]]}}},\"view\":{\"type\":\"object\",\"name\":\"CDSView\",\"id\":\"p1119\",\"attributes\":{\"filter\":{\"type\":\"object\",\"name\":\"AllIndices\",\"id\":\"p1120\"}}},\"glyph\":{\"type\":\"object\",\"name\":\"Scatter\",\"id\":\"p1115\",\"attributes\":{\"x\":{\"type\":\"field\",\"field\":\"x1\"},\"y\":{\"type\":\"field\",\"field\":\"x2\"},\"size\":{\"type\":\"value\",\"value\":8},\"line_color\":{\"type\":\"value\",\"value\":\"#1f77b4\"},\"fill_color\":{\"type\":\"value\",\"value\":\"#1f77b4\"}}},\"nonselection_glyph\":{\"type\":\"object\",\"name\":\"Scatter\",\"id\":\"p1116\",\"attributes\":{\"x\":{\"type\":\"field\",\"field\":\"x1\"},\"y\":{\"type\":\"field\",\"field\":\"x2\"},\"size\":{\"type\":\"value\",\"value\":8},\"line_color\":{\"type\":\"value\",\"value\":\"#1f77b4\"},\"line_alpha\":{\"type\":\"value\",\"value\":0.1},\"fill_color\":{\"type\":\"value\",\"value\":\"#1f77b4\"},\"fill_alpha\":{\"type\":\"value\",\"value\":0.1},\"hatch_alpha\":{\"type\":\"value\",\"value\":0.1}}},\"muted_glyph\":{\"type\":\"object\",\"name\":\"Scatter\",\"id\":\"p1117\",\"attributes\":{\"x\":{\"type\":\"field\",\"field\":\"x1\"},\"y\":{\"type\":\"field\",\"field\":\"x2\"},\"size\":{\"type\":\"value\",\"value\":8},\"line_color\":{\"type\":\"value\",\"value\":\"#1f77b4\"},\"line_alpha\":{\"type\":\"value\",\"value\":0.2},\"fill_color\":{\"type\":\"value\",\"value\":\"#1f77b4\"},\"fill_alpha\":{\"type\":\"value\",\"value\":0.2},\"hatch_alpha\":{\"type\":\"value\",\"value\":0.2}}}}}],\"toolbar\":{\"type\":\"object\",\"name\":\"Toolbar\",\"id\":\"p1092\",\"attributes\":{\"tools\":[{\"type\":\"object\",\"name\":\"PanTool\",\"id\":\"p1105\"},{\"type\":\"object\",\"name\":\"WheelZoomTool\",\"id\":\"p1106\",\"attributes\":{\"renderers\":\"auto\"}},{\"type\":\"object\",\"name\":\"ResetTool\",\"id\":\"p1107\"},{\"type\":\"object\",\"name\":\"SaveTool\",\"id\":\"p1108\"}]}},\"toolbar_location\":\"above\",\"left\":[{\"type\":\"object\",\"name\":\"LinearAxis\",\"id\":\"p1100\",\"attributes\":{\"ticker\":{\"type\":\"object\",\"name\":\"BasicTicker\",\"id\":\"p1101\",\"attributes\":{\"mantissas\":[1,2,5]}},\"formatter\":{\"type\":\"object\",\"name\":\"BasicTickFormatter\",\"id\":\"p1102\"},\"major_label_policy\":{\"type\":\"object\",\"name\":\"AllLabels\",\"id\":\"p1103\"}}}],\"below\":[{\"type\":\"object\",\"name\":\"LinearAxis\",\"id\":\"p1095\",\"attributes\":{\"ticker\":{\"type\":\"object\",\"name\":\"BasicTicker\",\"id\":\"p1096\",\"attributes\":{\"mantissas\":[1,2,5]}},\"formatter\":{\"type\":\"object\",\"name\":\"BasicTickFormatter\",\"id\":\"p1097\"},\"major_label_policy\":{\"type\":\"object\",\"name\":\"AllLabels\",\"id\":\"p1098\"}}}],\"center\":[{\"type\":\"object\",\"name\":\"Grid\",\"id\":\"p1099\",\"attributes\":{\"axis\":{\"id\":\"p1095\"}}},{\"type\":\"object\",\"name\":\"Grid\",\"id\":\"p1104\",\"attributes\":{\"dimension\":1,\"axis\":{\"id\":\"p1100\"}}},{\"type\":\"object\",\"name\":\"LabelSet\",\"id\":\"p1121\",\"attributes\":{\"source\":{\"id\":\"p1109\"},\"x\":{\"type\":\"field\",\"field\":\"x1\"},\"y\":{\"type\":\"field\",\"field\":\"x2\"},\"text\":{\"type\":\"field\",\"field\":\"names\"},\"y_offset\":{\"type\":\"value\",\"value\":6},\"text_color\":{\"type\":\"value\",\"value\":\"#555555\"},\"text_font_size\":{\"type\":\"value\",\"value\":\"8pt\"},\"text_align\":{\"type\":\"value\",\"value\":\"center\"}}}]}}]}};\n  const render_items = [{\"docid\":\"b76469c9-c4b3-4f05-b4f0-6920b29b8d19\",\"roots\":{\"p1083\":\"f9b1a1ec-0dec-4787-800c-f07877ea6ad5\"},\"root_ids\":[\"p1083\"]}];\n  void root.Bokeh.embed.embed_items_notebook(docs_json, render_items);\n  }\n  if (root.Bokeh !== undefined) {\n    embed_document(root);\n  } else {\n    let attempts = 0;\n    const timer = setInterval(function(root) {\n      if (root.Bokeh !== undefined) {\n        clearInterval(timer);\n        embed_document(root);\n      } else {\n        attempts++;\n        if (attempts > 100) {\n          clearInterval(timer);\n          console.log(\"Bokeh: ERROR: Unable to run BokehJS code because BokehJS library is missing\");\n        }\n      }\n    }, 10, root)\n  }\n})(window);",
      "application/vnd.bokehjs_exec.v0+json": ""
     },
     "metadata": {
      "application/vnd.bokehjs_exec.v0+json": {
       "id": "p1083"
      }
     },
     "output_type": "display_data"
    }
   ],
   "source": [
    "p = figure(tools=\"pan,wheel_zoom,reset,save\",\n",
    "           toolbar_location=\"above\",\n",
    "           title=\"word2vec T-SNE for most common words\")\n",
    "\n",
    "source = ColumnDataSource(data=dict(x1=words_top_ted_tsne[:,0],\n",
    "                                    x2=words_top_ted_tsne[:,1],\n",
    "                                    names=words_top_ted))\n",
    "\n",
    "p.scatter(x=\"x1\", y=\"x2\", size=8, source=source)\n",
    "\n",
    "labels = LabelSet(x=\"x1\", y=\"x2\", text=\"names\", y_offset=6,\n",
    "                  text_font_size=\"8pt\", text_color=\"#555555\",\n",
    "                  source=source, text_align='center')\n",
    "p.add_layout(labels)\n",
    "\n",
    "show(p)"
   ]
  }
 ],
 "metadata": {
  "anaconda-cloud": {},
  "kernelspec": {
   "display_name": "Python 3",
   "language": "python",
   "name": "python3"
  },
  "language_info": {
   "codemirror_mode": {
    "name": "ipython",
    "version": 3
   },
   "file_extension": ".py",
   "mimetype": "text/x-python",
   "name": "python",
   "nbconvert_exporter": "python",
   "pygments_lexer": "ipython3",
   "version": "3.11.9"
  }
 },
 "nbformat": 4,
 "nbformat_minor": 1
}
